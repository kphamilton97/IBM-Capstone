{
    "cells": [
        {
            "cell_type": "code",
            "execution_count": 4,
            "metadata": {},
            "outputs": [
                {
                    "ename": "ModuleNotFoundError",
                    "evalue": "No module named 'dash'",
                    "output_type": "error",
                    "traceback": [
                        "\u001b[0;31m---------------------------------------------------------------------------\u001b[0m",
                        "\u001b[0;31mModuleNotFoundError\u001b[0m                       Traceback (most recent call last)",
                        "\u001b[0;32m/tmp/wsuser/ipykernel_591/2218640795.py\u001b[0m in \u001b[0;36m<module>\u001b[0;34m\u001b[0m\n\u001b[1;32m      1\u001b[0m \u001b[0;32mimport\u001b[0m \u001b[0mplotly\u001b[0m\u001b[0;34m.\u001b[0m\u001b[0mexpress\u001b[0m \u001b[0;32mas\u001b[0m \u001b[0mpx\u001b[0m\u001b[0;34m\u001b[0m\u001b[0;34m\u001b[0m\u001b[0m\n\u001b[0;32m----> 2\u001b[0;31m \u001b[0;32mfrom\u001b[0m \u001b[0mdash\u001b[0m \u001b[0;32mimport\u001b[0m \u001b[0mDash\u001b[0m\u001b[0;34m\u001b[0m\u001b[0;34m\u001b[0m\u001b[0m\n\u001b[0m\u001b[1;32m      3\u001b[0m \u001b[0;32mimport\u001b[0m \u001b[0mdash_core_components\u001b[0m \u001b[0;32mas\u001b[0m \u001b[0mdcc\u001b[0m\u001b[0;34m\u001b[0m\u001b[0;34m\u001b[0m\u001b[0m\n\u001b[1;32m      4\u001b[0m \u001b[0;32mimport\u001b[0m \u001b[0mdash_html_components\u001b[0m \u001b[0;32mas\u001b[0m \u001b[0mhtml\u001b[0m\u001b[0;34m\u001b[0m\u001b[0;34m\u001b[0m\u001b[0m\n\u001b[1;32m      5\u001b[0m \u001b[0;32mfrom\u001b[0m \u001b[0mdash\u001b[0m\u001b[0;34m.\u001b[0m\u001b[0mdependencies\u001b[0m \u001b[0;32mimport\u001b[0m \u001b[0mInput\u001b[0m\u001b[0;34m,\u001b[0m \u001b[0mOutput\u001b[0m\u001b[0;34m\u001b[0m\u001b[0;34m\u001b[0m\u001b[0m\n",
                        "\u001b[0;31mModuleNotFoundError\u001b[0m: No module named 'dash'"
                    ]
                }
            ],
            "source": "import plotly.express as px\nimport jupyter_dash import JupyterDash\nimport dash_core_components as dcc\nimport dash_html_components as html\nfrom dash.dependencies import Input, Output\nimport pandas as pd\n\n#For this to work you will have to install jupyter dash using pip install jupyter-dash and then exectue all these in a jupyter notebook and it wil provide the solution."
        },
        {
            "cell_type": "code",
            "execution_count": null,
            "metadata": {},
            "outputs": [],
            "source": "spacex_df = pd.read_csv(\"spacex_launch_dash.csv\")\nmax_payload = spacex_df['Payload Mass (kg)'].max()\nmin_payload = spacex_df['Payload Mass (kg)'].min()"
        },
        {
            "cell_type": "code",
            "execution_count": null,
            "metadata": {},
            "outputs": [],
            "source": "external_stylesheets = ['https://codepen.io/chriddyp/pen/bWLwgP.css']\napp = JupyterDash(__name__, external_stylesheets=external_stylesheets)\n\nlaunch_sites = spacex_df['Launch Site'].unique().tolist()\nls = []\nls.append({'label': 'All Sites', 'value': 'All Sites'})\nfor i in launch_sites:\n    ls.append({'label': launch_site, 'value': launch_site})\n\napp.layout = html.Div(children=[\n    html.Div([\n        html.H1('SpaceX Launch Records Dashboard',\n            style={'textAlign': 'center', 'color': '#503D36','font-size': 40}),\n    ]),\n    \n    html.Div([\n        # TASK 1: Add a Launch Site Drop-down Input Component\n        dcc.Dropdown(\n                id = 'site-dropdown',\n                options = ls,\n                placeholder = 'Select a Launch Site here',\n                searchable = True ,\n                clearable = False,\n                value = 'All Sites'\n            ),\n        # TASK 2: Add a callback function to render success-pie-chart based on selected site dropdown\n        html.Div(dcc.Graph(id='success-pie-chart')),\n    ], style={'padding': '0 30px'}),\n\n    html.Div([\n        # TASK 3: Add a Range Slider to Select Payload\n        html.Div(\"Payload range (Kg):\", \n            style={'color': '#503D36','font-size': 20, 'padding': '0 30px', 'margin-left': '11px'}\n            ),\n        html.Div([\n            dcc.RangeSlider(\n                id = 'payload_slider',\n                min = 0,\n                max = 10000,\n                step = 1000,\n                marks = {\n                        0: {'label': '0 Kg', 'style': {'color': '#77b0b1'}},\n                        1000: {'label': '1000 Kg'},\n                        2000: {'label': '2000 Kg'},\n                        3000: {'label': '3000 Kg'},\n                        4000: {'label': '4000 Kg'},\n                        5000: {'label': '5000 Kg'},\n                        6000: {'label': '6000 Kg'},\n                        7000: {'label': '7000 Kg'},\n                        8000: {'label': '8000 Kg'},\n                        9000: {'label': '9000 Kg'},\n                        10000: {'label': '10000 Kg', 'style': {'color': '#f50'}},\n                },\n                value = [min_payload,max_payload]\n            ),\n        ], style={'padding': '40px 30px'}),\n\n        # TASK 4: Add a callback function to render the success-payload-scatter-chart scatter plot\n        html.Div(dcc.Graph(id = 'success-payload-scatter-chart')),\n    ]),\n],style={'padding': '0 20px'})\n\n# TASK 2: success-pie-chart callback based on selected site dropdown\n@app.callback(\n     Output(component_id = 'success-pie-chart', component_property = 'figure'),\n     [Input(component_id = 'site-dropdown', component_property = 'value')]\n)\ndef update_piegraph(site_dropdown):\n    if (site_dropdown == 'All Sites' or site_dropdown == 'None'):\n        all_sites  = spacex_df[spacex_df['class'] == 1] # All Success only for all sites.\n        fig = px.pie(\n                all_sites,\n                names = 'Launch Site',\n                title = 'Total Success Launches by All Sites',\n                hole = .2,\n                color_discrete_sequence = px.colors.sequential.RdBu\n            )\n    else:\n        site_specific  = spacex_df.loc[spacex_df['Launch Site'] == site_dropdown]\n        fig = px.pie(\n                site_specific,\n                names = 'class',\n                title = 'Total Success Launches for Site &#8608; '+site_dropdown,\n                hole = .2\n            )\n    return fig\n\n# TASK 3, 4: Range Slider or Scatter Chart Callback\n@app.callback(\n     Output(component_id = 'success-payload-scatter-chart', component_property = 'figure'),\n     [Input(component_id = 'site-dropdown', component_property = 'value'), \n     Input(component_id = \"payload_slider\", component_property = \"value\")]\n)\ndef update_scattergraph(site_dropdown,payload_slider):\n    if (site_dropdown == 'All Sites' or site_dropdown == 'None'):\n        low, high = payload_slider\n        all_sites  = spacex_df\n        inrange = (all_sites['Payload Mass (kg)'] > low) & (all_sites['Payload Mass (kg)'] < high)\n        fig = px.scatter(\n                all_sites[inrange], \n                x = \"Payload Mass (kg)\", \n                y = \"class\",\n                title = 'Correlation Between Payload and Success for All Sites',\n                color=\"Booster Version Category\",\n                size='Payload Mass (kg)',\n                hover_data=['Payload Mass (kg)']\n            )\n    else:\n        low, high = payload_slider\n        site_specific  = spacex_df.loc[spacex_df['Launch Site'] == site_dropdown]\n        inrange = (site_specific['Payload Mass (kg)'] > low) & (site_specific['Payload Mass (kg)'] < high)\n        fig = px.scatter(\n                site_specific[inrange],\n                x = \"Payload Mass (kg)\",\n                y = \"class\",\n                title = 'Correlation Between Payload and Success for Site &#8608; '+site_dropdown,\n                color=\"Booster Version Category\",\n                size='Payload Mass (kg)',\n                hover_data=['Payload Mass (kg)']\n            )\n    return fig\n\nif __name__ == '__main__':\n    app.run_server(debug=True)"
        },
        {
            "cell_type": "code",
            "execution_count": null,
            "metadata": {},
            "outputs": [],
            "source": ""
        }
    ],
    "metadata": {
        "kernelspec": {
            "display_name": "Python 3.9",
            "language": "python",
            "name": "python3"
        },
        "language_info": {
            "codemirror_mode": {
                "name": "ipython",
                "version": 3
            },
            "file_extension": ".py",
            "mimetype": "text/x-python",
            "name": "python",
            "nbconvert_exporter": "python",
            "pygments_lexer": "ipython3",
            "version": "3.9.7"
        }
    },
    "nbformat": 4,
    "nbformat_minor": 1
}